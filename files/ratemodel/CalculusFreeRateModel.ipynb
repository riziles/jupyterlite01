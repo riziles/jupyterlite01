{
 "cells": [
  {
   "cell_type": "code",
   "execution_count": 1,
   "id": "d347251c-13fe-443e-8c46-735546265cdd",
   "metadata": {},
   "outputs": [],
   "source": [
    "import sympy as sm"
   ]
  },
  {
   "cell_type": "code",
   "execution_count": 2,
   "id": "4e5bebb8-91d8-42e9-ad01-5f96c76203bb",
   "metadata": {},
   "outputs": [],
   "source": [
    "import math"
   ]
  },
  {
   "cell_type": "code",
   "execution_count": 3,
   "id": "95502578-0912-4b82-97b7-2bd9b1bb3b2b",
   "metadata": {},
   "outputs": [],
   "source": [
    "import numpy as np"
   ]
  },
  {
   "cell_type": "code",
   "execution_count": 26,
   "id": "395fd2dc-388c-48c4-a6bc-49252e385283",
   "metadata": {},
   "outputs": [
    {
     "data": {
      "text/plain": [
       "1.4066730489552828"
      ]
     },
     "execution_count": 26,
     "metadata": {},
     "output_type": "execute_result"
    }
   ],
   "source": [
    "np.std(np.random.normal(0,1,10000)+np.random.normal(0,1,10000))"
   ]
  },
  {
   "cell_type": "code",
   "execution_count": 27,
   "id": "9652f417-6aeb-4272-a9eb-4173d9953ef5",
   "metadata": {},
   "outputs": [],
   "source": [
    "R_0210 = np.random.normal(0,1,10000)\n",
    "R_0510 = np.random.normal(0,1,10000)"
   ]
  },
  {
   "cell_type": "code",
   "execution_count": 30,
   "id": "c216756e-cbc9-41f7-b6e0-dea2f1cfed0f",
   "metadata": {},
   "outputs": [
    {
     "data": {
      "text/plain": [
       "1.9985371802283751"
      ]
     },
     "execution_count": 30,
     "metadata": {},
     "output_type": "execute_result"
    }
   ],
   "source": [
    "np.std(sigma_1)**2 + np.std(sigma_2)**2"
   ]
  },
  {
   "cell_type": "code",
   "execution_count": 31,
   "id": "9578c32f-a1b4-4de4-a5fb-be88e090809a",
   "metadata": {},
   "outputs": [
    {
     "data": {
      "text/plain": [
       "1.413696282879875"
      ]
     },
     "execution_count": 31,
     "metadata": {},
     "output_type": "execute_result"
    }
   ],
   "source": [
    "(np.std(sigma_1)**2 + np.std(sigma_2)**2)**0.5"
   ]
  },
  {
   "cell_type": "markdown",
   "id": "d0e902f4-e251-419f-821d-3f9c7d0f9d36",
   "metadata": {},
   "source": [
    "Let $R_{1}, R_{2}, \\ldots R_{30}$ be a series of normally distributed random variables."
   ]
  },
  {
   "cell_type": "code",
   "execution_count": 40,
   "id": "e19c329e-d565-4a4d-934f-b927d66044ed",
   "metadata": {},
   "outputs": [],
   "source": [
    "import pandas as pd"
   ]
  },
  {
   "cell_type": "code",
   "execution_count": 45,
   "id": "b47d38b0-a366-4c77-91c5-5162e72cf79f",
   "metadata": {},
   "outputs": [],
   "source": [
    "sigma = [\n",
    "    {'exp': 2, 'tenor':2, 'vol': 45},\n",
    "    {'exp': 2, 'tenor':5, 'vol': 40},\n",
    "    {'exp': 2, 'tenor':10, 'vol': 35},\n",
    "    {'exp': 5, 'tenor':5, 'vol': 30},\n",
    "    {'exp': 5, 'tenor':10, 'vol': 25}\n",
    "]"
   ]
  },
  {
   "cell_type": "code",
   "execution_count": 58,
   "id": "da74b633-f7b7-49fe-970e-e818b98e80df",
   "metadata": {},
   "outputs": [
    {
     "data": {
      "text/html": [
       "<div>\n",
       "<style scoped>\n",
       "    .dataframe tbody tr th:only-of-type {\n",
       "        vertical-align: middle;\n",
       "    }\n",
       "\n",
       "    .dataframe tbody tr th {\n",
       "        vertical-align: top;\n",
       "    }\n",
       "\n",
       "    .dataframe thead th {\n",
       "        text-align: right;\n",
       "    }\n",
       "</style>\n",
       "<table border=\"1\" class=\"dataframe\">\n",
       "  <thead>\n",
       "    <tr style=\"text-align: right;\">\n",
       "      <th></th>\n",
       "      <th></th>\n",
       "      <th>vol</th>\n",
       "      <th>tot_term</th>\n",
       "      <th>var</th>\n",
       "    </tr>\n",
       "    <tr>\n",
       "      <th>exp</th>\n",
       "      <th>tenor</th>\n",
       "      <th></th>\n",
       "      <th></th>\n",
       "      <th></th>\n",
       "    </tr>\n",
       "  </thead>\n",
       "  <tbody>\n",
       "    <tr>\n",
       "      <th rowspan=\"2\" valign=\"top\">2</th>\n",
       "      <th>2</th>\n",
       "      <td>45</td>\n",
       "      <td>4</td>\n",
       "      <td>2025</td>\n",
       "    </tr>\n",
       "    <tr>\n",
       "      <th>5</th>\n",
       "      <td>40</td>\n",
       "      <td>7</td>\n",
       "      <td>1600</td>\n",
       "    </tr>\n",
       "    <tr>\n",
       "      <th>5</th>\n",
       "      <th>5</th>\n",
       "      <td>30</td>\n",
       "      <td>10</td>\n",
       "      <td>900</td>\n",
       "    </tr>\n",
       "    <tr>\n",
       "      <th>2</th>\n",
       "      <th>10</th>\n",
       "      <td>35</td>\n",
       "      <td>12</td>\n",
       "      <td>1225</td>\n",
       "    </tr>\n",
       "    <tr>\n",
       "      <th>5</th>\n",
       "      <th>10</th>\n",
       "      <td>25</td>\n",
       "      <td>15</td>\n",
       "      <td>625</td>\n",
       "    </tr>\n",
       "  </tbody>\n",
       "</table>\n",
       "</div>"
      ],
      "text/plain": [
       "           vol  tot_term   var\n",
       "exp tenor                     \n",
       "2   2       45         4  2025\n",
       "    5       40         7  1600\n",
       "5   5       30        10   900\n",
       "2   10      35        12  1225\n",
       "5   10      25        15   625"
      ]
     },
     "execution_count": 58,
     "metadata": {},
     "output_type": "execute_result"
    }
   ],
   "source": [
    "sigma_df = pd.DataFrame(sigma)\n",
    "# .set_index(['exp','tenor'])\n",
    "sigma_df['tot_term'] = sigma_df['exp'] + sigma_df['tenor']\n",
    "sigma_df['var'] = sigma_df['vol']**2\n",
    "sigma_df.set_index(['exp','tenor'], inplace = True)\n",
    "sigma_df.sort_values(['tot_term'], inplace = True)\n",
    "sigma_df"
   ]
  },
  {
   "cell_type": "code",
   "execution_count": 41,
   "id": "9dbe3e81-dd7d-47d6-b2f8-733f93b9afaf",
   "metadata": {},
   "outputs": [
    {
     "name": "stdout",
     "output_type": "stream",
     "text": [
      "0\n",
      "1\n",
      "2\n",
      "3\n",
      "4\n",
      "5\n",
      "6\n",
      "7\n",
      "8\n",
      "9\n",
      "10\n",
      "11\n",
      "12\n",
      "13\n",
      "14\n",
      "15\n",
      "16\n",
      "17\n",
      "18\n",
      "19\n",
      "20\n",
      "21\n",
      "22\n",
      "23\n",
      "24\n",
      "25\n",
      "26\n",
      "27\n",
      "28\n",
      "29\n"
     ]
    }
   ],
   "source": [
    "P = {}\n",
    "for i in range(0,100):\n",
    "    R = {}\n",
    "    for j in range (0,30):\n",
    "        R[j] = np.random.normal(0,1,10000)"
   ]
  },
  {
   "cell_type": "code",
   "execution_count": 5,
   "id": "ed4d6f95-150c-411c-ad88-242828e9dc6b",
   "metadata": {},
   "outputs": [],
   "source": [
    "from scipy import stats"
   ]
  },
  {
   "cell_type": "code",
   "execution_count": 20,
   "id": "a9a74663-13dd-4be0-9ff2-14038cefa96b",
   "metadata": {},
   "outputs": [
    {
     "data": {
      "text/plain": [
       "-3.7190164854556804"
      ]
     },
     "execution_count": 20,
     "metadata": {},
     "output_type": "execute_result"
    }
   ],
   "source": [
    "stats.norm.ppf(0.0001)"
   ]
  },
  {
   "cell_type": "code",
   "execution_count": 73,
   "id": "93397e11-206b-43f0-b00b-8399ebb0e0c9",
   "metadata": {},
   "outputs": [
    {
     "data": {
      "text/html": [
       "<div>\n",
       "<style scoped>\n",
       "    .dataframe tbody tr th:only-of-type {\n",
       "        vertical-align: middle;\n",
       "    }\n",
       "\n",
       "    .dataframe tbody tr th {\n",
       "        vertical-align: top;\n",
       "    }\n",
       "\n",
       "    .dataframe thead th {\n",
       "        text-align: right;\n",
       "    }\n",
       "</style>\n",
       "<table border=\"1\" class=\"dataframe\">\n",
       "  <thead>\n",
       "    <tr style=\"text-align: right;\">\n",
       "      <th>Period</th>\n",
       "      <th>0</th>\n",
       "      <th>1</th>\n",
       "    </tr>\n",
       "    <tr>\n",
       "      <th>Path</th>\n",
       "      <th></th>\n",
       "      <th></th>\n",
       "    </tr>\n",
       "  </thead>\n",
       "  <tbody>\n",
       "    <tr>\n",
       "      <th>0</th>\n",
       "      <td>-0.916722</td>\n",
       "      <td>1.209131</td>\n",
       "    </tr>\n",
       "    <tr>\n",
       "      <th>1</th>\n",
       "      <td>-1.081471</td>\n",
       "      <td>0.706021</td>\n",
       "    </tr>\n",
       "    <tr>\n",
       "      <th>2</th>\n",
       "      <td>-0.433248</td>\n",
       "      <td>0.254698</td>\n",
       "    </tr>\n",
       "    <tr>\n",
       "      <th>3</th>\n",
       "      <td>1.896080</td>\n",
       "      <td>-1.882570</td>\n",
       "    </tr>\n",
       "    <tr>\n",
       "      <th>4</th>\n",
       "      <td>-0.157749</td>\n",
       "      <td>-0.102960</td>\n",
       "    </tr>\n",
       "    <tr>\n",
       "      <th>...</th>\n",
       "      <td>...</td>\n",
       "      <td>...</td>\n",
       "    </tr>\n",
       "    <tr>\n",
       "      <th>999995</th>\n",
       "      <td>0.110648</td>\n",
       "      <td>0.112619</td>\n",
       "    </tr>\n",
       "    <tr>\n",
       "      <th>999996</th>\n",
       "      <td>-0.325962</td>\n",
       "      <td>0.522632</td>\n",
       "    </tr>\n",
       "    <tr>\n",
       "      <th>999997</th>\n",
       "      <td>-1.388521</td>\n",
       "      <td>1.461920</td>\n",
       "    </tr>\n",
       "    <tr>\n",
       "      <th>999998</th>\n",
       "      <td>1.922850</td>\n",
       "      <td>-1.642880</td>\n",
       "    </tr>\n",
       "    <tr>\n",
       "      <th>999999</th>\n",
       "      <td>1.371088</td>\n",
       "      <td>-0.942324</td>\n",
       "    </tr>\n",
       "  </tbody>\n",
       "</table>\n",
       "<p>1000000 rows × 2 columns</p>\n",
       "</div>"
      ],
      "text/plain": [
       "Period         0         1\n",
       "Path                      \n",
       "0      -0.916722  1.209131\n",
       "1      -1.081471  0.706021\n",
       "2      -0.433248  0.254698\n",
       "3       1.896080 -1.882570\n",
       "4      -0.157749 -0.102960\n",
       "...          ...       ...\n",
       "999995  0.110648  0.112619\n",
       "999996 -0.325962  0.522632\n",
       "999997 -1.388521  1.461920\n",
       "999998  1.922850 -1.642880\n",
       "999999  1.371088 -0.942324\n",
       "\n",
       "[1000000 rows x 2 columns]"
      ]
     },
     "execution_count": 73,
     "metadata": {},
     "output_type": "execute_result"
    }
   ],
   "source": [
    "randarray = pd.DataFrame(data=np.random.normal(0,1,(1000000,2)))\n",
    "randarray.columns.name = 'Period'\n",
    "randarray.index.name = 'Path'\n",
    "randarray[1] = -0.9 * randarray[0] + 0.2 * randarray[1]\n",
    "randarray"
   ]
  },
  {
   "cell_type": "code",
   "execution_count": 74,
   "id": "5419c47b-1980-4c23-969d-a5d54feb1114",
   "metadata": {},
   "outputs": [
    {
     "data": {
      "text/html": [
       "<div>\n",
       "<style scoped>\n",
       "    .dataframe tbody tr th:only-of-type {\n",
       "        vertical-align: middle;\n",
       "    }\n",
       "\n",
       "    .dataframe tbody tr th {\n",
       "        vertical-align: top;\n",
       "    }\n",
       "\n",
       "    .dataframe thead th {\n",
       "        text-align: right;\n",
       "    }\n",
       "</style>\n",
       "<table border=\"1\" class=\"dataframe\">\n",
       "  <thead>\n",
       "    <tr style=\"text-align: right;\">\n",
       "      <th>Period</th>\n",
       "      <th>0</th>\n",
       "      <th>1</th>\n",
       "    </tr>\n",
       "    <tr>\n",
       "      <th>Path</th>\n",
       "      <th></th>\n",
       "      <th></th>\n",
       "    </tr>\n",
       "  </thead>\n",
       "  <tbody>\n",
       "    <tr>\n",
       "      <th>0</th>\n",
       "      <td>-0.916722</td>\n",
       "      <td>0.292409</td>\n",
       "    </tr>\n",
       "    <tr>\n",
       "      <th>1</th>\n",
       "      <td>-1.081471</td>\n",
       "      <td>-0.375450</td>\n",
       "    </tr>\n",
       "    <tr>\n",
       "      <th>2</th>\n",
       "      <td>-0.433248</td>\n",
       "      <td>-0.178550</td>\n",
       "    </tr>\n",
       "    <tr>\n",
       "      <th>3</th>\n",
       "      <td>1.896080</td>\n",
       "      <td>0.013510</td>\n",
       "    </tr>\n",
       "    <tr>\n",
       "      <th>4</th>\n",
       "      <td>-0.157749</td>\n",
       "      <td>-0.260709</td>\n",
       "    </tr>\n",
       "    <tr>\n",
       "      <th>...</th>\n",
       "      <td>...</td>\n",
       "      <td>...</td>\n",
       "    </tr>\n",
       "    <tr>\n",
       "      <th>999995</th>\n",
       "      <td>0.110648</td>\n",
       "      <td>0.223268</td>\n",
       "    </tr>\n",
       "    <tr>\n",
       "      <th>999996</th>\n",
       "      <td>-0.325962</td>\n",
       "      <td>0.196670</td>\n",
       "    </tr>\n",
       "    <tr>\n",
       "      <th>999997</th>\n",
       "      <td>-1.388521</td>\n",
       "      <td>0.073399</td>\n",
       "    </tr>\n",
       "    <tr>\n",
       "      <th>999998</th>\n",
       "      <td>1.922850</td>\n",
       "      <td>0.279970</td>\n",
       "    </tr>\n",
       "    <tr>\n",
       "      <th>999999</th>\n",
       "      <td>1.371088</td>\n",
       "      <td>0.428764</td>\n",
       "    </tr>\n",
       "  </tbody>\n",
       "</table>\n",
       "<p>1000000 rows × 2 columns</p>\n",
       "</div>"
      ],
      "text/plain": [
       "Period         0         1\n",
       "Path                      \n",
       "0      -0.916722  0.292409\n",
       "1      -1.081471 -0.375450\n",
       "2      -0.433248 -0.178550\n",
       "3       1.896080  0.013510\n",
       "4      -0.157749 -0.260709\n",
       "...          ...       ...\n",
       "999995  0.110648  0.223268\n",
       "999996 -0.325962  0.196670\n",
       "999997 -1.388521  0.073399\n",
       "999998  1.922850  0.279970\n",
       "999999  1.371088  0.428764\n",
       "\n",
       "[1000000 rows x 2 columns]"
      ]
     },
     "execution_count": 74,
     "metadata": {},
     "output_type": "execute_result"
    }
   ],
   "source": [
    "cumarray = randarray.cumsum(axis = 1)\n",
    "cumarray"
   ]
  },
  {
   "cell_type": "code",
   "execution_count": 75,
   "id": "5a256e6c-08ca-4f24-b494-a019b2167d3a",
   "metadata": {},
   "outputs": [
    {
     "data": {
      "text/plain": [
       "-8.149658393943836e-06"
      ]
     },
     "execution_count": 75,
     "metadata": {},
     "output_type": "execute_result"
    }
   ],
   "source": [
    "np.mean(cumarray[1].values)"
   ]
  },
  {
   "cell_type": "code",
   "execution_count": 76,
   "id": "cc6ab2d7-e390-42ca-95cd-1b13e0b8bb1b",
   "metadata": {},
   "outputs": [
    {
     "data": {
      "text/plain": [
       "0.22364913212551923"
      ]
     },
     "execution_count": 76,
     "metadata": {},
     "output_type": "execute_result"
    }
   ],
   "source": [
    "np.std(cumarray[1].values)"
   ]
  },
  {
   "cell_type": "code",
   "execution_count": 77,
   "id": "d1cc1a1c-d885-48c2-bd7b-69443e70df9f",
   "metadata": {},
   "outputs": [
    {
     "name": "stdout",
     "output_type": "stream",
     "text": [
      "0.9997635581829343\n",
      "0.8497494642825497\n"
     ]
    }
   ],
   "source": [
    "print(np.var(randarray[0].values))\n",
    "print(np.var(randarray[1].values))"
   ]
  },
  {
   "cell_type": "code",
   "execution_count": 70,
   "id": "81a926fd-2c00-4214-a40a-29957385697d",
   "metadata": {},
   "outputs": [
    {
     "data": {
      "text/plain": [
       "array([[ 1.        , -0.44767862],\n",
       "       [-0.44767862,  1.        ]])"
      ]
     },
     "execution_count": 70,
     "metadata": {},
     "output_type": "execute_result"
    }
   ],
   "source": [
    "np.corrcoef(randarray[0].values,randarray[1].values)"
   ]
  },
  {
   "cell_type": "code",
   "execution_count": 78,
   "id": "ea43d97d-019a-40f9-868c-61f4de53d5e2",
   "metadata": {},
   "outputs": [
    {
     "data": {
      "text/plain": [
       "-0.20041614680510442"
      ]
     },
     "execution_count": 78,
     "metadata": {},
     "output_type": "execute_result"
    }
   ],
   "source": [
    "-0.44767862**2"
   ]
  },
  {
   "cell_type": "code",
   "execution_count": null,
   "id": "9663e497-9c55-4cb3-905f-7cb4ed272338",
   "metadata": {},
   "outputs": [],
   "source": []
  }
 ],
 "metadata": {
  "kernelspec": {
   "display_name": "Python 3 (ipykernel)",
   "language": "python",
   "name": "python3"
  },
  "language_info": {
   "codemirror_mode": {
    "name": "ipython",
    "version": 3
   },
   "file_extension": ".py",
   "mimetype": "text/x-python",
   "name": "python",
   "nbconvert_exporter": "python",
   "pygments_lexer": "ipython3",
   "version": "3.9.5"
  }
 },
 "nbformat": 4,
 "nbformat_minor": 5
}
